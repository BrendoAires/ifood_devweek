{
  "cells": [
    {
      "cell_type": "markdown",
      "metadata": {
        "id": "oPigZArHe3d_"
      },
      "source": [
        "# iFood Dev Week\n",
        "\n",
        "Saiba mais sobre essa semana incrível no Artigo [Desvendando a iFood Dev Week](https://www.dio.me/articles/desvendando-a-ifood-dev-week)."
      ]
    },
    {
      "cell_type": "markdown",
      "metadata": {
        "id": "VJ9ncXpVjIz9"
      },
      "source": [
        "## Dia 1: Conheça o Google Colab e o Projeto Desta Dev Week\n",
        "\n",
        "Vamos mergulhar no Google Colab, aprendendo como ele pode ser usado para automatizar tarefas cotidianas, principalmente através da manipulação de planilhas. Além disso, você aprenderá na prática o conceito do Net Promoter Score (NPS), uma métrica fundamental para entender a satisfação do cliente."
      ]
    },
    {
      "cell_type": "code",
      "execution_count": 10,
      "metadata": {
        "colab": {
          "base_uri": "https://localhost:8080/"
        },
        "id": "pQo2iXQLPjnR",
        "outputId": "3a864c94-293a-4d35-c5f1-261ad2f1ea46"
      },
      "outputs": [
        {
          "output_type": "stream",
          "name": "stderr",
          "text": [
            "Downloading...\n",
            "From: https://drive.google.com/uc?id=1x4uUUwncYXqhrgT8YKLfw4eA8JzCyVd3\n",
            "To: /content/feedbacks.csv\n",
            "100%|██████████| 265/265 [00:00<00:00, 828kB/s]"
          ]
        },
        {
          "output_type": "stream",
          "name": "stdout",
          "text": [
            "37.5\n"
          ]
        },
        {
          "output_type": "stream",
          "name": "stderr",
          "text": [
            "\n"
          ]
        }
      ],
      "source": [
        "# TODO: Implementar a lógica de NPS em comandos simples e sequenciais (imperativo).\n",
        "\n",
        "import pandas as pd\n",
        "import gdown\n",
        "\n",
        "file_id = '1x4uUUwncYXqhrgT8YKLfw4eA8JzCyVd3'\n",
        "gdown.download(f'https://drive.google.com/uc?id={file_id}', 'feedbacks.csv')\n",
        "\n",
        "dados = pd.read_csv('/content/feedbacks.csv', delimiter=';')\n",
        "\n",
        "\n",
        "detratores = 0\n",
        "promotores = 0\n",
        "\n",
        "notas = dados['nota']\n",
        "for nota in notas:\n",
        "  if nota >=9:\n",
        "    promotores +=1\n",
        "\n",
        "  elif nota <=6:\n",
        "    detratores += 1\n",
        "\n",
        "nps = (promotores - detratores) / len(notas) *100\n",
        "\n",
        "print(nps)\n"
      ]
    },
    {
      "cell_type": "code",
      "execution_count": 11,
      "metadata": {
        "colab": {
          "base_uri": "https://localhost:8080/"
        },
        "id": "-qLL6LQ1qcAR",
        "outputId": "d41faeca-c2a6-4b9c-da9a-d977b6dbec88"
      },
      "outputs": [
        {
          "output_type": "stream",
          "name": "stdout",
          "text": [
            "37.5\n"
          ]
        }
      ],
      "source": [
        "# TODO: Evoluir a implementação para separar melhor as responsabilidades (funcional).\n",
        "\n",
        "import pandas as pd\n",
        "\n",
        "\n",
        "notas = dados['nota']\n",
        "\n",
        "\n",
        "\n",
        "def calcularNPS(notas):\n",
        "  detratores = sum(notas.apply(lambda nota: nota<6))\n",
        "  promotores = notas[notas >=9].count()\n",
        "\n",
        "  return (promotores - detratores) / len(notas) *100\n",
        "\n",
        "notas = dados['nota']\n",
        "\n",
        "\n",
        "\n",
        "nps = calcularNPS(notas)\n",
        "\n",
        "print(nps)\n",
        "\n",
        "\n"
      ]
    },
    {
      "cell_type": "code",
      "execution_count": 12,
      "metadata": {
        "colab": {
          "base_uri": "https://localhost:8080/"
        },
        "id": "Rzhk-sOXrwJb",
        "outputId": "7eb98f73-d699-435a-c22d-dad6a5a18507"
      },
      "outputs": [
        {
          "output_type": "execute_result",
          "data": {
            "text/plain": [
              "37.5"
            ]
          },
          "metadata": {},
          "execution_count": 12
        }
      ],
      "source": [
        "# TODO: Abstrair o problema usando classes e objetos (orientação a objetos).\n",
        "\n",
        "import pandas as pd\n",
        "\n",
        "class Feedback:\n",
        "  def __init__(self, nota, comentario):\n",
        "    self.nota = nota\n",
        "    self.comentario = comentario\n",
        "\n",
        "class AnalisadorFeedback:\n",
        "  def __init__(self, feedbacks):\n",
        "    self.feedbacks = feedbacks\n",
        "\n",
        "  def calcularNPS(self):\n",
        "    detratores = sum([1 for feedback in self.feedbacks if feedback.nota <=6])\n",
        "    promotores = sum([1 for feedback in self.feedbacks if feedback.nota >= 9])\n",
        "\n",
        "    return (promotores - detratores) / len(notas) *100\n",
        "\n",
        "\n",
        "dados = pd.read_csv('/content/feedbacks.csv', delimiter=';')\n",
        "\n",
        "feedbacks = [Feedback(linha['nota'], linha['comentario']) for indice, linha in dados.iterrows() ]\n",
        "\n",
        "\n",
        "analisador = AnalisadorFeedback(feedbacks)\n",
        "analisador.calcularNPS()\n"
      ]
    },
    {
      "cell_type": "markdown",
      "metadata": {
        "id": "ekkcgs-nujuG"
      },
      "source": [
        "## Dia 2: Desvendando o Poder dos Seus Dados com Python\n",
        "\n",
        "No segundo dia, vamos conectar nosso Google Colab ao Google Drive, extrair dados do NPS e aplicar as técnicas de ETL (Extração, Transformação e Carregamento) nesses dados. Com a ajuda da biblioteca matplotlib, criaremos gráficos para visualizar e compreender o nível de satisfação dos nossos usuários."
      ]
    },
    {
      "cell_type": "code",
      "execution_count": 14,
      "metadata": {
        "colab": {
          "base_uri": "https://localhost:8080/",
          "height": 237
        },
        "id": "QMLrD_YzJVGZ",
        "outputId": "b8e98e83-e047-4731-dd45-a0fa6127664e"
      },
      "outputs": [
        {
          "output_type": "display_data",
          "data": {
            "text/plain": [
              "<Figure size 2000x200 with 1 Axes>"
            ],
            "image/png": "[encoded data removed]"
          },
          "metadata": {}
        }
      ],
      "source": [
        "import matplotlib.pyplot as plt\n",
        "import matplotlib.patches as mpatches\n",
        "\n",
        "# definição das constantes para visualizar O NPS\n",
        "\n",
        "NPS_ZONAS = ['Crítico', 'Aperfeiçoamento', 'Qualidade', 'Excelência']\n",
        "NPS_VALORES = [-100, 0, 50, 75, 100]\n",
        "NPS_CORES = ['#FF595E', 'pink', '#8AC926', '#1982C4']\n",
        "\n",
        "def criar_grafico_nps(nps):\n",
        "  fig, ax = plt.subplots(figsize=(20, 2))\n",
        "\n",
        "  for i, zona in enumerate(NPS_ZONAS):\n",
        "    ax.barh([0], width=NPS_VALORES[i+1]-NPS_VALORES[i], left=NPS_VALORES[i], color=NPS_CORES[i])\n",
        "\n",
        "  ax.barh([0], width=0.4, left=nps, color='black')\n",
        "  ax.set_yticks([])\n",
        "  ax.set_xlim(-100, 100)\n",
        "  ax.set_xticks(NPS_VALORES)\n",
        "\n",
        "  plt.text(nps, 0, f'{nps:.1f}', ha='center', va='center', color='white', bbox=dict(facecolor='black'))\n",
        "\n",
        "  patches = [mpatches.Patch(color=NPS_CORES[i], label=NPS_ZONAS[i]) for i in range(len(NPS_ZONAS))]\n",
        "  plt.legend(handles=patches, bbox_to_anchor=(1,1))\n",
        "\n",
        "  plt.title('NPS IFOOD')\n",
        "  plt.show()\n",
        "\n",
        "criar_grafico_nps(nps)\n",
        "\n",
        "\n"
      ]
    },
    {
      "cell_type": "markdown",
      "metadata": {
        "id": "jHl6lLS1usU1"
      },
      "source": [
        "## Dia 3: Decifrando Sentimentos com Inteligência Artificial (IA)\n",
        "\n",
        "No último dia, vamos utilizar as técnicas de Processamento de Linguagem Natural (PLN) para analisar os sentimentos expressos nos comentários associados às notas de NPS. Dessa forma, teremos uma perspectiva qualitativa que complementa nossos dados quantitativos."
      ]
    },
    {
      "cell_type": "code",
      "source": [],
      "metadata": {
        "id": "uzq2vAYuK6pb"
      },
      "execution_count": null,
      "outputs": []
    },
    {
      "cell_type": "code",
      "source": [
        "!pip install openai"
      ],
      "metadata": {
        "id": "4GgxVSEDUevW",
        "colab": {
          "base_uri": "https://localhost:8080/"
        },
        "outputId": "164b3d75-e98c-4b3a-84d8-30b6bf37e86b"
      },
      "execution_count": 9,
      "outputs": [
        {
          "output_type": "stream",
          "name": "stdout",
          "text": [
            "Collecting openai\n",
            "  Downloading openai-0.27.8-py3-none-any.whl (73 kB)\n",
            "\u001b[?25l     \u001b[90m━━━━━━━━━━━━━━━━━━━━━━━━━━━━━━━━━━━━━━━━\u001b[0m \u001b[32m0.0/73.6 kB\u001b[0m \u001b[31m?\u001b[0m eta \u001b[36m-:--:--\u001b[0m\r\u001b[2K     \u001b[90m━━━━━━━━━━━━━━━━━━━━━━━━━━━━━━━━━━━━━━━━\u001b[0m \u001b[32m73.6/73.6 kB\u001b[0m \u001b[31m2.8 MB/s\u001b[0m eta \u001b[36m0:00:00\u001b[0m\n",
            "\u001b[?25hRequirement already satisfied: requests>=2.20 in /usr/local/lib/python3.10/dist-packages (from openai) (2.27.1)\n",
            "Requirement already satisfied: tqdm in /usr/local/lib/python3.10/dist-packages (from openai) (4.65.0)\n",
            "Requirement already satisfied: aiohttp in /usr/local/lib/python3.10/dist-packages (from openai) (3.8.4)\n",
            "Requirement already satisfied: urllib3<1.27,>=1.21.1 in /usr/local/lib/python3.10/dist-packages (from requests>=2.20->openai) (1.26.16)\n",
            "Requirement already satisfied: certifi>=2017.4.17 in /usr/local/lib/python3.10/dist-packages (from requests>=2.20->openai) (2023.5.7)\n",
            "Requirement already satisfied: charset-normalizer~=2.0.0 in /usr/local/lib/python3.10/dist-packages (from requests>=2.20->openai) (2.0.12)\n",
            "Requirement already satisfied: idna<4,>=2.5 in /usr/local/lib/python3.10/dist-packages (from requests>=2.20->openai) (3.4)\n",
            "Requirement already satisfied: attrs>=17.3.0 in /usr/local/lib/python3.10/dist-packages (from aiohttp->openai) (23.1.0)\n",
            "Requirement already satisfied: multidict<7.0,>=4.5 in /usr/local/lib/python3.10/dist-packages (from aiohttp->openai) (6.0.4)\n",
            "Requirement already satisfied: async-timeout<5.0,>=4.0.0a3 in /usr/local/lib/python3.10/dist-packages (from aiohttp->openai) (4.0.2)\n",
            "Requirement already satisfied: yarl<2.0,>=1.0 in /usr/local/lib/python3.10/dist-packages (from aiohttp->openai) (1.9.2)\n",
            "Requirement already satisfied: frozenlist>=1.1.1 in /usr/local/lib/python3.10/dist-packages (from aiohttp->openai) (1.3.3)\n",
            "Requirement already satisfied: aiosignal>=1.1.2 in /usr/local/lib/python3.10/dist-packages (from aiohttp->openai) (1.3.1)\n",
            "Installing collected packages: openai\n",
            "Successfully installed openai-0.27.8\n"
          ]
        }
      ]
    },
    {
      "cell_type": "code",
      "source": [
        "# Documentação Oficial da API OpenAI: https://platform.openai.com/docs/api-reference/introduction\n",
        "# Informações sobre o Período Gratuito: https://help.openai.com/en/articles/4936830\n",
        "\n",
        "# Para gerar uma API Key:\n",
        "# 1. Crie uma conta na OpenAI\n",
        "# 2. Acesse a seção \"API Keys\"\n",
        "# 3. Clique em \"Create API Key\"\n",
        "# Link direto: https://platform.openai.com/account/api-keys\n",
        "\n",
        "# Substitua o texto \"TODO\" por sua API Key da OpenAI, ela será salva como uma variável de ambiente.\n",
        "openai_api_key = '************************************'"
      ],
      "metadata": {
        "id": "ahl3NezxUD2r"
      },
      "execution_count": 17,
      "outputs": []
    },
    {
      "cell_type": "code",
      "source": [
        "# TODO: Integrar com o ChatGPT e usá-lo como um modelo para análise de sentimentos dos nossos comentários.\n",
        "# Seguem alguns links úteis:\n",
        "# 1. Endpoint que vamos consumir: https://platform.openai.com/docs/api-reference/chat/create\n",
        "# 2. Collection Postman da OpenAI: https://www.postman.com/devrel/workspace/openai/documentation/13183464-90abb798-cb85-43cb-ba3a-ae7941e968da\n",
        "\n",
        "import openai\n",
        "\n",
        "openai.api_key = openai_api_key\n",
        "\n",
        "def analisar_sentimentos(feedbacks):\n",
        "  comentarios_formatados = '\\n'.join([f'-Nota {feedback.nota} {feedback.comentario}' for feedback in feedbacks])\n",
        "  prompt = f\"Sintetize uma análise geral dos seguintes comentários: {comentarios_formatados}\"\n",
        "\n",
        "  completion = openai.ChatCompletion.create(\n",
        "      model=\"gpt-3.5-turbo\",\n",
        "      messages=[\n",
        "          {\"role\": \"system\",\n",
        "           \"content\": \"Você é um modelo de análise de sentimentos com foco em feedbacks sobre experiências educaionais\"},\n",
        "          {\n",
        "              \"role\": \"user\",\n",
        "              \"content\" : prompt\n",
        "              #\"content\": f\"Análise os seguintes comentários: {feedbacks[4].comentario}\"\n",
        "          }\n",
        "      ]\n",
        "  )\n",
        "  return completion.choices[0].message.content\n",
        "\n",
        "insights = analisar_sentimentos(feedbacks)\n",
        "print(insights)"
      ],
      "metadata": {
        "id": "G7H3LfBgUU1h",
        "colab": {
          "base_uri": "https://localhost:8080/"
        },
        "outputId": "5ac1e618-9f8e-4c6a-f54c-c8036488df2a"
      },
      "execution_count": 45,
      "outputs": [
        {
          "output_type": "stream",
          "name": "stdout",
          "text": [
            "Com base nos comentários dos usuários, podemos afirmar que a maioria teve uma experiência positiva com o bootcamp, com notas 10 e 9. \nEsses usuários elogiaram a experiência, considerando-a excelente, perfeita e top, e demonstraram interesse em participar novamente ou compartilhar com outras pessoas.\n",
            "\n",
            "No entanto, alguns usuários tiveram percepções mais neutras ou negativas, com notas 8, 7 e 5. Esses usuários mencionaram que algumas questões \npoderiam ter sido melhoradas, que a experiência foi apenas ok ou nada de especial, e que acharam o bootcamp muito rápido e difícil de entender.\n",
            "\n",
            "Portanto, o bootcamp geralmente recebeu notas positivas, indicando uma experiência educacional satisfatória. No entanto, é importante considerar\n as questões mencionadas pelos usuários que deram notas mais baixas, buscando maneiras de aprimorar o conteúdo, o ritmo e a clareza das informações fornecidas.\n"
          ]
        }
      ]
    },
    {
      "cell_type": "code",
      "source": [],
      "metadata": {
        "id": "V3WfT3n3QL4S"
      },
      "execution_count": null,
      "outputs": []
    }
  ],
  "metadata": {
    "colab": {
      "provenance": []
    },
    "kernelspec": {
      "display_name": "Python 3",
      "name": "python3"
    },
    "language_info": {
      "name": "python"
    }
  },
  "nbformat": 4,
  "nbformat_minor": 0
}
